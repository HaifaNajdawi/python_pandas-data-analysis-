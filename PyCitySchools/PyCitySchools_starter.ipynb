{
 "cells": [
  {
   "cell_type": "markdown",
   "metadata": {},
   "source": [
    "### Note\n",
    "* Instructions have been included for each segment. You do not have to follow them exactly, but they are included to help you think through the steps."
   ]
  },
  {
   "cell_type": "code",
   "execution_count": 154,
   "metadata": {},
   "outputs": [
    {
     "output_type": "execute_result",
     "data": {
      "text/plain": [
       "    Student ID       student_name gender grade        school_name  \\\n",
       "0            0       Paul Bradley      M   9th  Huang High School   \n",
       "1            1       Victor Smith      M  12th  Huang High School   \n",
       "2            2    Kevin Rodriguez      M  12th  Huang High School   \n",
       "3            3  Dr. Richard Scott      M  12th  Huang High School   \n",
       "4            4         Bonnie Ray      F   9th  Huang High School   \n",
       "5            5      Bryan Miranda      M   9th  Huang High School   \n",
       "6            6      Sheena Carter      F  11th  Huang High School   \n",
       "7            7       Nicole Baker      F  12th  Huang High School   \n",
       "8            8       Michael Roth      M  10th  Huang High School   \n",
       "9            9     Matthew Greene      M  10th  Huang High School   \n",
       "10          10   Andrew Alexander      M  10th  Huang High School   \n",
       "11          11      Daniel Cooper      M  10th  Huang High School   \n",
       "12          12    Brittney Walker      F   9th  Huang High School   \n",
       "13          13       William Long      M   9th  Huang High School   \n",
       "14          14       Tammy Hebert      F  10th  Huang High School   \n",
       "15          15  Dr. Jordan Carson      M  11th  Huang High School   \n",
       "16          16      Donald Zamora      M   9th  Huang High School   \n",
       "17          17  Kimberly Santiago      F   9th  Huang High School   \n",
       "18          18      Kevin Stevens      M   9th  Huang High School   \n",
       "19          19       Brandi Lyons      F   9th  Huang High School   \n",
       "\n",
       "    reading_score  math_score  School ID      type  size   budget  \n",
       "0              66          79          0  District  2917  1910635  \n",
       "1              94          61          0  District  2917  1910635  \n",
       "2              90          60          0  District  2917  1910635  \n",
       "3              67          58          0  District  2917  1910635  \n",
       "4              97          84          0  District  2917  1910635  \n",
       "5              94          94          0  District  2917  1910635  \n",
       "6              82          80          0  District  2917  1910635  \n",
       "7              96          69          0  District  2917  1910635  \n",
       "8              95          87          0  District  2917  1910635  \n",
       "9              96          84          0  District  2917  1910635  \n",
       "10             90          70          0  District  2917  1910635  \n",
       "11             78          77          0  District  2917  1910635  \n",
       "12             64          79          0  District  2917  1910635  \n",
       "13             71          79          0  District  2917  1910635  \n",
       "14             85          67          0  District  2917  1910635  \n",
       "15             94          88          0  District  2917  1910635  \n",
       "16             88          55          0  District  2917  1910635  \n",
       "17             74          75          0  District  2917  1910635  \n",
       "18             64          69          0  District  2917  1910635  \n",
       "19             89          80          0  District  2917  1910635  "
      ],
      "text/html": "<div>\n<style scoped>\n    .dataframe tbody tr th:only-of-type {\n        vertical-align: middle;\n    }\n\n    .dataframe tbody tr th {\n        vertical-align: top;\n    }\n\n    .dataframe thead th {\n        text-align: right;\n    }\n</style>\n<table border=\"1\" class=\"dataframe\">\n  <thead>\n    <tr style=\"text-align: right;\">\n      <th></th>\n      <th>Student ID</th>\n      <th>student_name</th>\n      <th>gender</th>\n      <th>grade</th>\n      <th>school_name</th>\n      <th>reading_score</th>\n      <th>math_score</th>\n      <th>School ID</th>\n      <th>type</th>\n      <th>size</th>\n      <th>budget</th>\n    </tr>\n  </thead>\n  <tbody>\n    <tr>\n      <th>0</th>\n      <td>0</td>\n      <td>Paul Bradley</td>\n      <td>M</td>\n      <td>9th</td>\n      <td>Huang High School</td>\n      <td>66</td>\n      <td>79</td>\n      <td>0</td>\n      <td>District</td>\n      <td>2917</td>\n      <td>1910635</td>\n    </tr>\n    <tr>\n      <th>1</th>\n      <td>1</td>\n      <td>Victor Smith</td>\n      <td>M</td>\n      <td>12th</td>\n      <td>Huang High School</td>\n      <td>94</td>\n      <td>61</td>\n      <td>0</td>\n      <td>District</td>\n      <td>2917</td>\n      <td>1910635</td>\n    </tr>\n    <tr>\n      <th>2</th>\n      <td>2</td>\n      <td>Kevin Rodriguez</td>\n      <td>M</td>\n      <td>12th</td>\n      <td>Huang High School</td>\n      <td>90</td>\n      <td>60</td>\n      <td>0</td>\n      <td>District</td>\n      <td>2917</td>\n      <td>1910635</td>\n    </tr>\n    <tr>\n      <th>3</th>\n      <td>3</td>\n      <td>Dr. Richard Scott</td>\n      <td>M</td>\n      <td>12th</td>\n      <td>Huang High School</td>\n      <td>67</td>\n      <td>58</td>\n      <td>0</td>\n      <td>District</td>\n      <td>2917</td>\n      <td>1910635</td>\n    </tr>\n    <tr>\n      <th>4</th>\n      <td>4</td>\n      <td>Bonnie Ray</td>\n      <td>F</td>\n      <td>9th</td>\n      <td>Huang High School</td>\n      <td>97</td>\n      <td>84</td>\n      <td>0</td>\n      <td>District</td>\n      <td>2917</td>\n      <td>1910635</td>\n    </tr>\n    <tr>\n      <th>5</th>\n      <td>5</td>\n      <td>Bryan Miranda</td>\n      <td>M</td>\n      <td>9th</td>\n      <td>Huang High School</td>\n      <td>94</td>\n      <td>94</td>\n      <td>0</td>\n      <td>District</td>\n      <td>2917</td>\n      <td>1910635</td>\n    </tr>\n    <tr>\n      <th>6</th>\n      <td>6</td>\n      <td>Sheena Carter</td>\n      <td>F</td>\n      <td>11th</td>\n      <td>Huang High School</td>\n      <td>82</td>\n      <td>80</td>\n      <td>0</td>\n      <td>District</td>\n      <td>2917</td>\n      <td>1910635</td>\n    </tr>\n    <tr>\n      <th>7</th>\n      <td>7</td>\n      <td>Nicole Baker</td>\n      <td>F</td>\n      <td>12th</td>\n      <td>Huang High School</td>\n      <td>96</td>\n      <td>69</td>\n      <td>0</td>\n      <td>District</td>\n      <td>2917</td>\n      <td>1910635</td>\n    </tr>\n    <tr>\n      <th>8</th>\n      <td>8</td>\n      <td>Michael Roth</td>\n      <td>M</td>\n      <td>10th</td>\n      <td>Huang High School</td>\n      <td>95</td>\n      <td>87</td>\n      <td>0</td>\n      <td>District</td>\n      <td>2917</td>\n      <td>1910635</td>\n    </tr>\n    <tr>\n      <th>9</th>\n      <td>9</td>\n      <td>Matthew Greene</td>\n      <td>M</td>\n      <td>10th</td>\n      <td>Huang High School</td>\n      <td>96</td>\n      <td>84</td>\n      <td>0</td>\n      <td>District</td>\n      <td>2917</td>\n      <td>1910635</td>\n    </tr>\n    <tr>\n      <th>10</th>\n      <td>10</td>\n      <td>Andrew Alexander</td>\n      <td>M</td>\n      <td>10th</td>\n      <td>Huang High School</td>\n      <td>90</td>\n      <td>70</td>\n      <td>0</td>\n      <td>District</td>\n      <td>2917</td>\n      <td>1910635</td>\n    </tr>\n    <tr>\n      <th>11</th>\n      <td>11</td>\n      <td>Daniel Cooper</td>\n      <td>M</td>\n      <td>10th</td>\n      <td>Huang High School</td>\n      <td>78</td>\n      <td>77</td>\n      <td>0</td>\n      <td>District</td>\n      <td>2917</td>\n      <td>1910635</td>\n    </tr>\n    <tr>\n      <th>12</th>\n      <td>12</td>\n      <td>Brittney Walker</td>\n      <td>F</td>\n      <td>9th</td>\n      <td>Huang High School</td>\n      <td>64</td>\n      <td>79</td>\n      <td>0</td>\n      <td>District</td>\n      <td>2917</td>\n      <td>1910635</td>\n    </tr>\n    <tr>\n      <th>13</th>\n      <td>13</td>\n      <td>William Long</td>\n      <td>M</td>\n      <td>9th</td>\n      <td>Huang High School</td>\n      <td>71</td>\n      <td>79</td>\n      <td>0</td>\n      <td>District</td>\n      <td>2917</td>\n      <td>1910635</td>\n    </tr>\n    <tr>\n      <th>14</th>\n      <td>14</td>\n      <td>Tammy Hebert</td>\n      <td>F</td>\n      <td>10th</td>\n      <td>Huang High School</td>\n      <td>85</td>\n      <td>67</td>\n      <td>0</td>\n      <td>District</td>\n      <td>2917</td>\n      <td>1910635</td>\n    </tr>\n    <tr>\n      <th>15</th>\n      <td>15</td>\n      <td>Dr. Jordan Carson</td>\n      <td>M</td>\n      <td>11th</td>\n      <td>Huang High School</td>\n      <td>94</td>\n      <td>88</td>\n      <td>0</td>\n      <td>District</td>\n      <td>2917</td>\n      <td>1910635</td>\n    </tr>\n    <tr>\n      <th>16</th>\n      <td>16</td>\n      <td>Donald Zamora</td>\n      <td>M</td>\n      <td>9th</td>\n      <td>Huang High School</td>\n      <td>88</td>\n      <td>55</td>\n      <td>0</td>\n      <td>District</td>\n      <td>2917</td>\n      <td>1910635</td>\n    </tr>\n    <tr>\n      <th>17</th>\n      <td>17</td>\n      <td>Kimberly Santiago</td>\n      <td>F</td>\n      <td>9th</td>\n      <td>Huang High School</td>\n      <td>74</td>\n      <td>75</td>\n      <td>0</td>\n      <td>District</td>\n      <td>2917</td>\n      <td>1910635</td>\n    </tr>\n    <tr>\n      <th>18</th>\n      <td>18</td>\n      <td>Kevin Stevens</td>\n      <td>M</td>\n      <td>9th</td>\n      <td>Huang High School</td>\n      <td>64</td>\n      <td>69</td>\n      <td>0</td>\n      <td>District</td>\n      <td>2917</td>\n      <td>1910635</td>\n    </tr>\n    <tr>\n      <th>19</th>\n      <td>19</td>\n      <td>Brandi Lyons</td>\n      <td>F</td>\n      <td>9th</td>\n      <td>Huang High School</td>\n      <td>89</td>\n      <td>80</td>\n      <td>0</td>\n      <td>District</td>\n      <td>2917</td>\n      <td>1910635</td>\n    </tr>\n  </tbody>\n</table>\n</div>"
     },
     "metadata": {},
     "execution_count": 154
    }
   ],
   "source": [
    "# Dependencies and Setup\n",
    "import pandas as pd\n",
    "\n",
    "# File to Load (Remember to Change These)\n",
    "school_data_to_load = \"Resources/schools_complete.csv\"\n",
    "student_data_to_load = \"Resources/students_complete.csv\"\n",
    "\n",
    "# Read School and Student Data File and store into Pandas DataFrames\n",
    "school_data = pd.read_csv(school_data_to_load)\n",
    "student_data = pd.read_csv(student_data_to_load)\n",
    "\n",
    "# Combine the data into a single dataset.  \n",
    "school_data_complete = pd.merge(student_data, school_data, how=\"left\", on=[\"school_name\", \"school_name\"])\n",
    "school_data_complete.head(20)"
   ]
  },
  {
   "cell_type": "markdown",
   "metadata": {},
   "source": [
    "## District Summary\n",
    "\n",
    "* Calculate the total number of schools\n",
    "\n",
    "* Calculate the total number of students\n",
    "\n",
    "* Calculate the total budget\n",
    "\n",
    "* Calculate the average math score \n",
    "\n",
    "* Calculate the average reading score\n",
    "\n",
    "* Calculate the percentage of students with a passing math score (70 or greater)\n",
    "\n",
    "* Calculate the percentage of students with a passing reading score (70 or greater)\n",
    "\n",
    "* Calculate the percentage of students who passed math **and** reading (% Overall Passing)\n",
    "\n",
    "* Create a dataframe to hold the above results\n",
    "\n",
    "* Optional: give the displayed data cleaner formatting"
   ]
  },
  {
   "cell_type": "code",
   "execution_count": 155,
   "metadata": {},
   "outputs": [
    {
     "output_type": "execute_result",
     "data": {
      "text/plain": [
       "   Total Schools  Total Students Total Budget  Average Math Score  \\\n",
       "0             15           39170   24,649,428              78.985   \n",
       "\n",
       "   Average Reading Score % Passing Math % Passing Reading % Overall Passing  \n",
       "0                 81.878          0.750             0.858             0.652  "
      ],
      "text/html": "<div>\n<style scoped>\n    .dataframe tbody tr th:only-of-type {\n        vertical-align: middle;\n    }\n\n    .dataframe tbody tr th {\n        vertical-align: top;\n    }\n\n    .dataframe thead th {\n        text-align: right;\n    }\n</style>\n<table border=\"1\" class=\"dataframe\">\n  <thead>\n    <tr style=\"text-align: right;\">\n      <th></th>\n      <th>Total Schools</th>\n      <th>Total Students</th>\n      <th>Total Budget</th>\n      <th>Average Math Score</th>\n      <th>Average Reading Score</th>\n      <th>% Passing Math</th>\n      <th>% Passing Reading</th>\n      <th>% Overall Passing</th>\n    </tr>\n  </thead>\n  <tbody>\n    <tr>\n      <th>0</th>\n      <td>15</td>\n      <td>39170</td>\n      <td>24,649,428</td>\n      <td>78.985</td>\n      <td>81.878</td>\n      <td>0.750</td>\n      <td>0.858</td>\n      <td>0.652</td>\n    </tr>\n  </tbody>\n</table>\n</div>"
     },
     "metadata": {},
     "execution_count": 155
    }
   ],
   "source": [
    "school_count = school_data[\"school_name\"].value_counts().sum()\n",
    "\n",
    "students_total = student_data[\"student_name\"].value_counts().sum()\n",
    "\n",
    "total_budget =school_data[\"budget\"].sum()\n",
    "\n",
    "\n",
    "math_score = round(student_data[\"math_score\"].mean(),3)\n",
    "\n",
    "reading_score=round(student_data[\"reading_score\"].mean(),3)\n",
    "\n",
    "student_len = len(student_data[\"student_name\"])\n",
    "\n",
    "math_passing = student_data.loc[student_data[\"math_score\"] >=70 ,:]\n",
    "\n",
    "math_passing_len= len(math_passing[\"student_name\"])\n",
    "percentage_math =f\" {math_passing_len/student_len:.3f}\"\n",
    "\n",
    "\n",
    "reading_passing = student_data.loc[student_data[\"reading_score\"] >=70 ,:]\n",
    "reading_passing_len= len(reading_passing[\"student_name\"])\n",
    "percentage_reading = f\"{reading_passing_len / student_len:.3f}\"\n",
    "\n",
    "\n",
    "math_reading_passing = student_data.loc[(student_data[\"math_score\"] >= 70) & (student_data[\"reading_score\"] >= 70) , :]\n",
    "math_reading_len = len(math_reading_passing[\"student_name\"])\n",
    "math_reading_percentage = f\"{math_reading_len / student_len:.3f}\"\n",
    "\n",
    "\n",
    "summery_df = pd.DataFrame({\"Total Schools\":[school_count],\n",
    "\"Total Students\":[students_total],\n",
    "\"Total Budget\":[total_budget],\n",
    "\"Average Math Score\":[math_score],\n",
    "\"Average Reading Score\":[reading_score],\n",
    "\"% Passing Math\":[percentage_math],\n",
    "\"% Passing Reading\":[percentage_reading],\n",
    "\"% Overall Passing\":[math_reading_percentage]})\n",
    "\n",
    "summery_df[\"Total Budget\"]=summery_df[\"Total Budget\"].map(\"{:,}\".format)\n",
    "summery_df.head()\n",
    "\n",
    "\n",
    "\n",
    "\n",
    "\n"
   ]
  },
  {
   "cell_type": "markdown",
   "metadata": {},
   "source": [
    "## School Summary"
   ]
  },
  {
   "cell_type": "markdown",
   "metadata": {},
   "source": [
    "* Create an overview table that summarizes key metrics about each school, including:\n",
    "  * School Name\n",
    "  * School Type\n",
    "  * Total Students\n",
    "  * Total School Budget\n",
    "  * Per Student Budget\n",
    "  * Average Math Score\n",
    "  * Average Reading Score\n",
    "  * % Passing Math\n",
    "  * % Passing Reading\n",
    "  * % Overall Passing (The percentage of students that passed math **and** reading.)\n",
    "  \n",
    "* Create a dataframe to hold the above results"
   ]
  },
  {
   "cell_type": "code",
   "execution_count": 198,
   "metadata": {},
   "outputs": [
    {
     "output_type": "execute_result",
     "data": {
      "text/plain": [
       "                       Total students Total School Budget  Per Student Budget  \\\n",
       "Bailey High School               4976           3,124,928               628.0   \n",
       "Cabrera High School              1858           1,081,356               582.0   \n",
       "Figueroa High School             2949           1,884,411               639.0   \n",
       "Ford High School                 2739           1,763,916               644.0   \n",
       "Griffin High School              1468             917,500               625.0   \n",
       "Hernandez High School            4635           3,022,020               652.0   \n",
       "Holden High School                427             248,087               581.0   \n",
       "Huang High School                2917           1,910,635               655.0   \n",
       "Johnson High School              4761           3,094,650               650.0   \n",
       "Pena High School                  962             585,858               609.0   \n",
       "\n",
       "                       Average Math Score  Average Reading Score  \\\n",
       "Bailey High School              77.048432              81.033963   \n",
       "Cabrera High School             83.061895              83.975780   \n",
       "Figueroa High School            76.711767              81.158020   \n",
       "Ford High School                77.102592              80.746258   \n",
       "Griffin High School             83.351499              83.816757   \n",
       "Hernandez High School           77.289752              80.934412   \n",
       "Holden High School              83.803279              83.814988   \n",
       "Huang High School               76.629414              81.182722   \n",
       "Johnson High School             77.072464              80.966394   \n",
       "Pena High School                83.839917              84.044699   \n",
       "\n",
       "                       % Passing Math  % Passing Reading  % Overall Passing  \n",
       "Bailey High School              66.68              81.93              54.64  \n",
       "Cabrera High School             94.13              97.04              91.33  \n",
       "Figueroa High School            65.99              80.74              53.20  \n",
       "Ford High School                68.31              79.30              54.29  \n",
       "Griffin High School             93.39              97.14              90.60  \n",
       "Hernandez High School           66.75              80.86              53.53  \n",
       "Holden High School              92.51              96.25              89.23  \n",
       "Huang High School               65.68              81.32              53.51  \n",
       "Johnson High School             66.06              81.22              53.54  \n",
       "Pena High School                94.59              95.95              90.54  "
      ],
      "text/html": "<div>\n<style scoped>\n    .dataframe tbody tr th:only-of-type {\n        vertical-align: middle;\n    }\n\n    .dataframe tbody tr th {\n        vertical-align: top;\n    }\n\n    .dataframe thead th {\n        text-align: right;\n    }\n</style>\n<table border=\"1\" class=\"dataframe\">\n  <thead>\n    <tr style=\"text-align: right;\">\n      <th></th>\n      <th>Total students</th>\n      <th>Total School Budget</th>\n      <th>Per Student Budget</th>\n      <th>Average Math Score</th>\n      <th>Average Reading Score</th>\n      <th>% Passing Math</th>\n      <th>% Passing Reading</th>\n      <th>% Overall Passing</th>\n    </tr>\n  </thead>\n  <tbody>\n    <tr>\n      <th>Bailey High School</th>\n      <td>4976</td>\n      <td>3,124,928</td>\n      <td>628.0</td>\n      <td>77.048432</td>\n      <td>81.033963</td>\n      <td>66.68</td>\n      <td>81.93</td>\n      <td>54.64</td>\n    </tr>\n    <tr>\n      <th>Cabrera High School</th>\n      <td>1858</td>\n      <td>1,081,356</td>\n      <td>582.0</td>\n      <td>83.061895</td>\n      <td>83.975780</td>\n      <td>94.13</td>\n      <td>97.04</td>\n      <td>91.33</td>\n    </tr>\n    <tr>\n      <th>Figueroa High School</th>\n      <td>2949</td>\n      <td>1,884,411</td>\n      <td>639.0</td>\n      <td>76.711767</td>\n      <td>81.158020</td>\n      <td>65.99</td>\n      <td>80.74</td>\n      <td>53.20</td>\n    </tr>\n    <tr>\n      <th>Ford High School</th>\n      <td>2739</td>\n      <td>1,763,916</td>\n      <td>644.0</td>\n      <td>77.102592</td>\n      <td>80.746258</td>\n      <td>68.31</td>\n      <td>79.30</td>\n      <td>54.29</td>\n    </tr>\n    <tr>\n      <th>Griffin High School</th>\n      <td>1468</td>\n      <td>917,500</td>\n      <td>625.0</td>\n      <td>83.351499</td>\n      <td>83.816757</td>\n      <td>93.39</td>\n      <td>97.14</td>\n      <td>90.60</td>\n    </tr>\n    <tr>\n      <th>Hernandez High School</th>\n      <td>4635</td>\n      <td>3,022,020</td>\n      <td>652.0</td>\n      <td>77.289752</td>\n      <td>80.934412</td>\n      <td>66.75</td>\n      <td>80.86</td>\n      <td>53.53</td>\n    </tr>\n    <tr>\n      <th>Holden High School</th>\n      <td>427</td>\n      <td>248,087</td>\n      <td>581.0</td>\n      <td>83.803279</td>\n      <td>83.814988</td>\n      <td>92.51</td>\n      <td>96.25</td>\n      <td>89.23</td>\n    </tr>\n    <tr>\n      <th>Huang High School</th>\n      <td>2917</td>\n      <td>1,910,635</td>\n      <td>655.0</td>\n      <td>76.629414</td>\n      <td>81.182722</td>\n      <td>65.68</td>\n      <td>81.32</td>\n      <td>53.51</td>\n    </tr>\n    <tr>\n      <th>Johnson High School</th>\n      <td>4761</td>\n      <td>3,094,650</td>\n      <td>650.0</td>\n      <td>77.072464</td>\n      <td>80.966394</td>\n      <td>66.06</td>\n      <td>81.22</td>\n      <td>53.54</td>\n    </tr>\n    <tr>\n      <th>Pena High School</th>\n      <td>962</td>\n      <td>585,858</td>\n      <td>609.0</td>\n      <td>83.839917</td>\n      <td>84.044699</td>\n      <td>94.59</td>\n      <td>95.95</td>\n      <td>90.54</td>\n    </tr>\n  </tbody>\n</table>\n</div>"
     },
     "metadata": {},
     "execution_count": 198
    }
   ],
   "source": [
    "school_type = school_data.set_index(\"type\")\n",
    "\n",
    "schools_counts= school_data_complete[\"school_name\"].value_counts()\n",
    "\n",
    "grouped_school_name =school_data_complete.groupby(['school_name'])\n",
    "\n",
    "\n",
    "total_school_budget =grouped_school_name[\"budget\"].mean()\n",
    "per_student_budget = round(total_school_budget / schools_counts,2)\n",
    "per_student_budget\n",
    "\n",
    "average_math = grouped_school_name[\"math_score\"].mean()\n",
    "\n",
    "average_reading=grouped_school_name[\"reading_score\"].mean()\n",
    "\n",
    "math = school_data_complete.loc[school_data_complete[\"math_score\"] >= 70]\n",
    "passing_math =round( math.groupby([\"school_name\"]).count()[\"student_name\"] / schools_counts*100,2)\n",
    "\n",
    "read= school_data_complete.loc[school_data_complete[\"reading_score\"] >= 70]\n",
    "passing_read = round(read.groupby([\"school_name\"]).count()[\"student_name\"] / schools_counts*100,2)\n",
    "\n",
    "math_reading =school_data_complete.loc[(school_data_complete[\"math_score\"] >= 70) & (school_data_complete[\"reading_score\"] >= 70)]\n",
    "passing_math_reading =round(math_reading.groupby([\"school_name\"]).count()[\"student_name\"]/schools_counts*100,2)\n",
    "\n",
    "\n",
    "\n",
    "\n",
    "\n",
    "\n",
    "school_summery = pd.DataFrame({\"Total students\":school_names,\n",
    "\"Total School Budget\":total_school_budget,\n",
    "\"Per Student Budget\":per_student_budget,\n",
    "\"Average Math Score\":average_math,\n",
    "\"Average Reading Score\":average_reading,\n",
    "\"% Passing Math\":passing_math,\n",
    "\"% Passing Reading\":passing_read,\n",
    "\"% Overall Passing\":passing_math_reading})\n",
    "\n",
    "school_summery[\"Total School Budget\"] = school_summery[\"Total School Budget\"].map(\"{:,}\".format)\n",
    "school_summery.head(10)\n"
   ]
  },
  {
   "cell_type": "markdown",
   "metadata": {},
   "source": [
    "## Top Performing Schools (By % Overall Passing)"
   ]
  },
  {
   "cell_type": "markdown",
   "metadata": {},
   "source": [
    "* Sort and display the top five performing schools by % overall passing."
   ]
  },
  {
   "cell_type": "code",
   "execution_count": 157,
   "metadata": {
    "scrolled": true
   },
   "outputs": [
    {
     "output_type": "execute_result",
     "data": {
      "text/plain": [
       "                     Total students Total School Budget  Per Student Budget  \\\n",
       "Cabrera High School            1858           1,081,356               582.0   \n",
       "Thomas High School             1635           1,043,130               638.0   \n",
       "Griffin High School            1468             917,500               625.0   \n",
       "Wilson High School             2283           1,319,574               578.0   \n",
       "Pena High School                962             585,858               609.0   \n",
       "\n",
       "                     Average Math Score  Average Reading Score  \\\n",
       "Cabrera High School           83.061895              83.975780   \n",
       "Thomas High School            83.418349              83.848930   \n",
       "Griffin High School           83.351499              83.816757   \n",
       "Wilson High School            83.274201              83.989488   \n",
       "Pena High School              83.839917              84.044699   \n",
       "\n",
       "                     % Passing Math  % Passing Reading  % Overall Passing  \n",
       "Cabrera High School        11660.00           12020.00              91.33  \n",
       "Thomas High School         10166.67           10606.67              90.95  \n",
       "Griffin High School         9140.00            9506.67              90.60  \n",
       "Wilson High School         14286.67           14693.33              90.58  \n",
       "Pena High School            6066.67            6153.33              90.54  "
      ],
      "text/html": "<div>\n<style scoped>\n    .dataframe tbody tr th:only-of-type {\n        vertical-align: middle;\n    }\n\n    .dataframe tbody tr th {\n        vertical-align: top;\n    }\n\n    .dataframe thead th {\n        text-align: right;\n    }\n</style>\n<table border=\"1\" class=\"dataframe\">\n  <thead>\n    <tr style=\"text-align: right;\">\n      <th></th>\n      <th>Total students</th>\n      <th>Total School Budget</th>\n      <th>Per Student Budget</th>\n      <th>Average Math Score</th>\n      <th>Average Reading Score</th>\n      <th>% Passing Math</th>\n      <th>% Passing Reading</th>\n      <th>% Overall Passing</th>\n    </tr>\n  </thead>\n  <tbody>\n    <tr>\n      <th>Cabrera High School</th>\n      <td>1858</td>\n      <td>1,081,356</td>\n      <td>582.0</td>\n      <td>83.061895</td>\n      <td>83.975780</td>\n      <td>11660.00</td>\n      <td>12020.00</td>\n      <td>91.33</td>\n    </tr>\n    <tr>\n      <th>Thomas High School</th>\n      <td>1635</td>\n      <td>1,043,130</td>\n      <td>638.0</td>\n      <td>83.418349</td>\n      <td>83.848930</td>\n      <td>10166.67</td>\n      <td>10606.67</td>\n      <td>90.95</td>\n    </tr>\n    <tr>\n      <th>Griffin High School</th>\n      <td>1468</td>\n      <td>917,500</td>\n      <td>625.0</td>\n      <td>83.351499</td>\n      <td>83.816757</td>\n      <td>9140.00</td>\n      <td>9506.67</td>\n      <td>90.60</td>\n    </tr>\n    <tr>\n      <th>Wilson High School</th>\n      <td>2283</td>\n      <td>1,319,574</td>\n      <td>578.0</td>\n      <td>83.274201</td>\n      <td>83.989488</td>\n      <td>14286.67</td>\n      <td>14693.33</td>\n      <td>90.58</td>\n    </tr>\n    <tr>\n      <th>Pena High School</th>\n      <td>962</td>\n      <td>585,858</td>\n      <td>609.0</td>\n      <td>83.839917</td>\n      <td>84.044699</td>\n      <td>6066.67</td>\n      <td>6153.33</td>\n      <td>90.54</td>\n    </tr>\n  </tbody>\n</table>\n</div>"
     },
     "metadata": {},
     "execution_count": 157
    }
   ],
   "source": [
    "top_five_df = school_summery.sort_values(\"% Overall Passing\", ascending=False)\n",
    "top_five_df.head(5)"
   ]
  },
  {
   "cell_type": "markdown",
   "metadata": {},
   "source": [
    "## Bottom Performing Schools (By % Overall Passing)"
   ]
  },
  {
   "cell_type": "markdown",
   "metadata": {},
   "source": [
    "* Sort and display the five worst-performing schools by % overall passing."
   ]
  },
  {
   "cell_type": "code",
   "execution_count": 158,
   "metadata": {},
   "outputs": [
    {
     "output_type": "execute_result",
     "data": {
      "text/plain": [
       "                       Total students Total School Budget  Per Student Budget  \\\n",
       "Rodriguez High School            3999           2,547,363               637.0   \n",
       "Figueroa High School             2949           1,884,411               639.0   \n",
       "Huang High School                2917           1,910,635               655.0   \n",
       "Hernandez High School            4635           3,022,020               652.0   \n",
       "Johnson High School              4761           3,094,650               650.0   \n",
       "\n",
       "                       Average Math Score  Average Reading Score  \\\n",
       "Rodriguez High School           76.842711              80.744686   \n",
       "Figueroa High School            76.711767              81.158020   \n",
       "Huang High School               76.629414              81.182722   \n",
       "Hernandez High School           77.289752              80.934412   \n",
       "Johnson High School             77.072464              80.966394   \n",
       "\n",
       "                       % Passing Math  % Passing Reading  % Overall Passing  \n",
       "Rodriguez High School        17693.33           21386.67              52.99  \n",
       "Figueroa High School         12973.33           15873.33              53.20  \n",
       "Huang High School            12773.33           15813.33              53.51  \n",
       "Hernandez High School        20626.67           24986.67              53.53  \n",
       "Johnson High School          20966.67           25780.00              53.54  "
      ],
      "text/html": "<div>\n<style scoped>\n    .dataframe tbody tr th:only-of-type {\n        vertical-align: middle;\n    }\n\n    .dataframe tbody tr th {\n        vertical-align: top;\n    }\n\n    .dataframe thead th {\n        text-align: right;\n    }\n</style>\n<table border=\"1\" class=\"dataframe\">\n  <thead>\n    <tr style=\"text-align: right;\">\n      <th></th>\n      <th>Total students</th>\n      <th>Total School Budget</th>\n      <th>Per Student Budget</th>\n      <th>Average Math Score</th>\n      <th>Average Reading Score</th>\n      <th>% Passing Math</th>\n      <th>% Passing Reading</th>\n      <th>% Overall Passing</th>\n    </tr>\n  </thead>\n  <tbody>\n    <tr>\n      <th>Rodriguez High School</th>\n      <td>3999</td>\n      <td>2,547,363</td>\n      <td>637.0</td>\n      <td>76.842711</td>\n      <td>80.744686</td>\n      <td>17693.33</td>\n      <td>21386.67</td>\n      <td>52.99</td>\n    </tr>\n    <tr>\n      <th>Figueroa High School</th>\n      <td>2949</td>\n      <td>1,884,411</td>\n      <td>639.0</td>\n      <td>76.711767</td>\n      <td>81.158020</td>\n      <td>12973.33</td>\n      <td>15873.33</td>\n      <td>53.20</td>\n    </tr>\n    <tr>\n      <th>Huang High School</th>\n      <td>2917</td>\n      <td>1,910,635</td>\n      <td>655.0</td>\n      <td>76.629414</td>\n      <td>81.182722</td>\n      <td>12773.33</td>\n      <td>15813.33</td>\n      <td>53.51</td>\n    </tr>\n    <tr>\n      <th>Hernandez High School</th>\n      <td>4635</td>\n      <td>3,022,020</td>\n      <td>652.0</td>\n      <td>77.289752</td>\n      <td>80.934412</td>\n      <td>20626.67</td>\n      <td>24986.67</td>\n      <td>53.53</td>\n    </tr>\n    <tr>\n      <th>Johnson High School</th>\n      <td>4761</td>\n      <td>3,094,650</td>\n      <td>650.0</td>\n      <td>77.072464</td>\n      <td>80.966394</td>\n      <td>20966.67</td>\n      <td>25780.00</td>\n      <td>53.54</td>\n    </tr>\n  </tbody>\n</table>\n</div>"
     },
     "metadata": {},
     "execution_count": 158
    }
   ],
   "source": [
    "bottom_five_df = school_summery.sort_values(\"% Overall Passing\")\n",
    "bottom_five_df.head(5)"
   ]
  },
  {
   "cell_type": "markdown",
   "metadata": {
    "collapsed": true
   },
   "source": [
    "## Math Scores by Grade"
   ]
  },
  {
   "cell_type": "markdown",
   "metadata": {},
   "source": [
    "* Create a table that lists the average Reading Score for students of each grade level (9th, 10th, 11th, 12th) at each school.\n",
    "\n",
    "  * Create a pandas series for each grade. Hint: use a conditional statement.\n",
    "  \n",
    "  * Group each series by school\n",
    "  \n",
    "  * Combine the series into a dataframe\n",
    "  \n",
    "  * Optional: give the displayed data cleaner formatting"
   ]
  },
  {
   "cell_type": "code",
   "execution_count": 159,
   "metadata": {},
   "outputs": [
    {
     "output_type": "execute_result",
     "data": {
      "text/plain": [
       "                         9th   10th   11th   12th\n",
       "school_name                                      \n",
       "Bailey High School     77.08  77.00  77.52  76.49\n",
       "Cabrera High School    83.09  83.15  82.77  83.28\n",
       "Figueroa High School   76.40  76.54  76.88  77.15\n",
       "Ford High School       77.36  77.67  76.92  76.18\n",
       "Griffin High School    82.04  84.23  83.84  83.36\n",
       "Hernandez High School  77.44  77.34  77.14  77.19\n",
       "Holden High School     83.79  83.43  85.00  82.86\n",
       "Huang High School      77.03  75.91  76.45  77.23\n",
       "Johnson High School    77.19  76.69  77.49  76.86\n",
       "Pena High School       83.63  83.37  84.33  84.12\n",
       "Rodriguez High School  76.86  76.61  76.40  77.69\n",
       "Shelton High School    83.42  82.92  83.38  83.78\n",
       "Thomas High School     83.59  83.09  83.50  83.50\n",
       "Wilson High School     83.09  83.72  83.20  83.04\n",
       "Wright High School     83.26  84.01  83.84  83.64"
      ],
      "text/html": "<div>\n<style scoped>\n    .dataframe tbody tr th:only-of-type {\n        vertical-align: middle;\n    }\n\n    .dataframe tbody tr th {\n        vertical-align: top;\n    }\n\n    .dataframe thead th {\n        text-align: right;\n    }\n</style>\n<table border=\"1\" class=\"dataframe\">\n  <thead>\n    <tr style=\"text-align: right;\">\n      <th></th>\n      <th>9th</th>\n      <th>10th</th>\n      <th>11th</th>\n      <th>12th</th>\n    </tr>\n    <tr>\n      <th>school_name</th>\n      <th></th>\n      <th></th>\n      <th></th>\n      <th></th>\n    </tr>\n  </thead>\n  <tbody>\n    <tr>\n      <th>Bailey High School</th>\n      <td>77.08</td>\n      <td>77.00</td>\n      <td>77.52</td>\n      <td>76.49</td>\n    </tr>\n    <tr>\n      <th>Cabrera High School</th>\n      <td>83.09</td>\n      <td>83.15</td>\n      <td>82.77</td>\n      <td>83.28</td>\n    </tr>\n    <tr>\n      <th>Figueroa High School</th>\n      <td>76.40</td>\n      <td>76.54</td>\n      <td>76.88</td>\n      <td>77.15</td>\n    </tr>\n    <tr>\n      <th>Ford High School</th>\n      <td>77.36</td>\n      <td>77.67</td>\n      <td>76.92</td>\n      <td>76.18</td>\n    </tr>\n    <tr>\n      <th>Griffin High School</th>\n      <td>82.04</td>\n      <td>84.23</td>\n      <td>83.84</td>\n      <td>83.36</td>\n    </tr>\n    <tr>\n      <th>Hernandez High School</th>\n      <td>77.44</td>\n      <td>77.34</td>\n      <td>77.14</td>\n      <td>77.19</td>\n    </tr>\n    <tr>\n      <th>Holden High School</th>\n      <td>83.79</td>\n      <td>83.43</td>\n      <td>85.00</td>\n      <td>82.86</td>\n    </tr>\n    <tr>\n      <th>Huang High School</th>\n      <td>77.03</td>\n      <td>75.91</td>\n      <td>76.45</td>\n      <td>77.23</td>\n    </tr>\n    <tr>\n      <th>Johnson High School</th>\n      <td>77.19</td>\n      <td>76.69</td>\n      <td>77.49</td>\n      <td>76.86</td>\n    </tr>\n    <tr>\n      <th>Pena High School</th>\n      <td>83.63</td>\n      <td>83.37</td>\n      <td>84.33</td>\n      <td>84.12</td>\n    </tr>\n    <tr>\n      <th>Rodriguez High School</th>\n      <td>76.86</td>\n      <td>76.61</td>\n      <td>76.40</td>\n      <td>77.69</td>\n    </tr>\n    <tr>\n      <th>Shelton High School</th>\n      <td>83.42</td>\n      <td>82.92</td>\n      <td>83.38</td>\n      <td>83.78</td>\n    </tr>\n    <tr>\n      <th>Thomas High School</th>\n      <td>83.59</td>\n      <td>83.09</td>\n      <td>83.50</td>\n      <td>83.50</td>\n    </tr>\n    <tr>\n      <th>Wilson High School</th>\n      <td>83.09</td>\n      <td>83.72</td>\n      <td>83.20</td>\n      <td>83.04</td>\n    </tr>\n    <tr>\n      <th>Wright High School</th>\n      <td>83.26</td>\n      <td>84.01</td>\n      <td>83.84</td>\n      <td>83.64</td>\n    </tr>\n  </tbody>\n</table>\n</div>"
     },
     "metadata": {},
     "execution_count": 159
    }
   ],
   "source": [
    "# math_value = groupby([\"school_name\"]).mean()[\"math_score\"]\n",
    "\n",
    "math_9th = school_data_complete.loc[school_data_complete[\"grade\"] == \"9th\" ]\n",
    "math_9th_grade = round(math_9th.groupby([\"school_name\"]).mean()[\"math_score\"],2)\n",
    "\n",
    "math_10th = school_data_complete.loc[school_data_complete[\"grade\"] == \"10th\" ]\n",
    "math_10th_grade = round(math_10th.groupby([\"school_name\"]).mean()[\"math_score\"],2)\n",
    "\n",
    "math_11th = school_data_complete.loc[school_data_complete[\"grade\"] == \"11th\" ]\n",
    "math_11th_grade =round( math_11th.groupby([\"school_name\"]).mean()[\"math_score\"],2)\n",
    "\n",
    "math_12th = school_data_complete.loc[school_data_complete[\"grade\"] == \"12th\" ]\n",
    "math_12th_grade = round(math_12th.groupby([\"school_name\"]).mean()[\"math_score\"],2)\n",
    "\n",
    "math_grades_df = pd.DataFrame({\"9th\":math_9th_grade,\n",
    "\"10th\":math_10th_grade,\n",
    "\"11th\":math_11th_grade,\n",
    "\"12th\":math_12th_grade})\n",
    "math_grades_df\n",
    "\n",
    "\n"
   ]
  },
  {
   "cell_type": "markdown",
   "metadata": {},
   "source": [
    "## Reading Score by Grade "
   ]
  },
  {
   "cell_type": "markdown",
   "metadata": {},
   "source": [
    "* Perform the same operations as above for reading scores"
   ]
  },
  {
   "cell_type": "code",
   "execution_count": 160,
   "metadata": {},
   "outputs": [
    {
     "output_type": "execute_result",
     "data": {
      "text/plain": [
       "                         9th   10th   11th   12th\n",
       "school_name                                      \n",
       "Bailey High School     81.30  80.91  80.95  80.91\n",
       "Cabrera High School    83.68  84.25  83.79  84.29\n",
       "Figueroa High School   81.20  81.41  80.64  81.38\n",
       "Ford High School       80.63  81.26  80.40  80.66\n",
       "Griffin High School    83.37  83.71  84.29  84.01\n",
       "Hernandez High School  80.87  80.66  81.40  80.86\n",
       "Holden High School     83.68  83.32  83.82  84.70\n",
       "Huang High School      81.29  81.51  81.42  80.31\n",
       "Johnson High School    81.26  80.77  80.62  81.23\n",
       "Pena High School       83.81  83.61  84.34  84.59\n",
       "Rodriguez High School  80.99  80.63  80.86  80.38\n",
       "Shelton High School    84.12  83.44  84.37  82.78\n",
       "Thomas High School     83.73  84.25  83.59  83.83\n",
       "Wilson High School     83.94  84.02  83.76  84.32\n",
       "Wright High School     83.83  83.81  84.16  84.07"
      ],
      "text/html": "<div>\n<style scoped>\n    .dataframe tbody tr th:only-of-type {\n        vertical-align: middle;\n    }\n\n    .dataframe tbody tr th {\n        vertical-align: top;\n    }\n\n    .dataframe thead th {\n        text-align: right;\n    }\n</style>\n<table border=\"1\" class=\"dataframe\">\n  <thead>\n    <tr style=\"text-align: right;\">\n      <th></th>\n      <th>9th</th>\n      <th>10th</th>\n      <th>11th</th>\n      <th>12th</th>\n    </tr>\n    <tr>\n      <th>school_name</th>\n      <th></th>\n      <th></th>\n      <th></th>\n      <th></th>\n    </tr>\n  </thead>\n  <tbody>\n    <tr>\n      <th>Bailey High School</th>\n      <td>81.30</td>\n      <td>80.91</td>\n      <td>80.95</td>\n      <td>80.91</td>\n    </tr>\n    <tr>\n      <th>Cabrera High School</th>\n      <td>83.68</td>\n      <td>84.25</td>\n      <td>83.79</td>\n      <td>84.29</td>\n    </tr>\n    <tr>\n      <th>Figueroa High School</th>\n      <td>81.20</td>\n      <td>81.41</td>\n      <td>80.64</td>\n      <td>81.38</td>\n    </tr>\n    <tr>\n      <th>Ford High School</th>\n      <td>80.63</td>\n      <td>81.26</td>\n      <td>80.40</td>\n      <td>80.66</td>\n    </tr>\n    <tr>\n      <th>Griffin High School</th>\n      <td>83.37</td>\n      <td>83.71</td>\n      <td>84.29</td>\n      <td>84.01</td>\n    </tr>\n    <tr>\n      <th>Hernandez High School</th>\n      <td>80.87</td>\n      <td>80.66</td>\n      <td>81.40</td>\n      <td>80.86</td>\n    </tr>\n    <tr>\n      <th>Holden High School</th>\n      <td>83.68</td>\n      <td>83.32</td>\n      <td>83.82</td>\n      <td>84.70</td>\n    </tr>\n    <tr>\n      <th>Huang High School</th>\n      <td>81.29</td>\n      <td>81.51</td>\n      <td>81.42</td>\n      <td>80.31</td>\n    </tr>\n    <tr>\n      <th>Johnson High School</th>\n      <td>81.26</td>\n      <td>80.77</td>\n      <td>80.62</td>\n      <td>81.23</td>\n    </tr>\n    <tr>\n      <th>Pena High School</th>\n      <td>83.81</td>\n      <td>83.61</td>\n      <td>84.34</td>\n      <td>84.59</td>\n    </tr>\n    <tr>\n      <th>Rodriguez High School</th>\n      <td>80.99</td>\n      <td>80.63</td>\n      <td>80.86</td>\n      <td>80.38</td>\n    </tr>\n    <tr>\n      <th>Shelton High School</th>\n      <td>84.12</td>\n      <td>83.44</td>\n      <td>84.37</td>\n      <td>82.78</td>\n    </tr>\n    <tr>\n      <th>Thomas High School</th>\n      <td>83.73</td>\n      <td>84.25</td>\n      <td>83.59</td>\n      <td>83.83</td>\n    </tr>\n    <tr>\n      <th>Wilson High School</th>\n      <td>83.94</td>\n      <td>84.02</td>\n      <td>83.76</td>\n      <td>84.32</td>\n    </tr>\n    <tr>\n      <th>Wright High School</th>\n      <td>83.83</td>\n      <td>83.81</td>\n      <td>84.16</td>\n      <td>84.07</td>\n    </tr>\n  </tbody>\n</table>\n</div>"
     },
     "metadata": {},
     "execution_count": 160
    }
   ],
   "source": [
    "reading_9th = school_data_complete.loc[school_data_complete[\"grade\"] == \"9th\" ]\n",
    "reading_9th_grade = round(reading_9th.groupby([\"school_name\"]).mean()[\"reading_score\"],2)\n",
    "\n",
    "reading_10th = school_data_complete.loc[school_data_complete[\"grade\"] == \"10th\" ]\n",
    "reading_10th_grade = round(reading_10th.groupby([\"school_name\"]).mean()[\"reading_score\"],2)\n",
    "\n",
    "reading_11th = school_data_complete.loc[school_data_complete[\"grade\"] == \"11th\" ]\n",
    "reading_11th_grade =round( reading_11th.groupby([\"school_name\"]).mean()[\"reading_score\"],2)\n",
    "\n",
    "reading_12th = school_data_complete.loc[school_data_complete[\"grade\"] == \"12th\" ]\n",
    "reading_12th_grade = round(reading_12th.groupby([\"school_name\"]).mean()[\"reading_score\"],2)\n",
    "\n",
    "math_grades_df = pd.DataFrame({\"9th\":reading_9th_grade,\n",
    "\"10th\":reading_10th_grade,\n",
    "\"11th\":reading_11th_grade,\n",
    "\"12th\":reading_12th_grade})\n",
    "math_grades_df\n"
   ]
  },
  {
   "cell_type": "markdown",
   "metadata": {},
   "source": [
    "## Scores by School Spending"
   ]
  },
  {
   "cell_type": "markdown",
   "metadata": {},
   "source": [
    "* Create a table that breaks down school performances based on average Spending Ranges (Per Student). Use 4 reasonable bins to group school spending. Include in the table each of the following:\n",
    "  * Average Math Score\n",
    "  * Average Reading Score\n",
    "  * % Passing Math\n",
    "  * % Passing Reading\n",
    "  * Overall Passing Rate (Average of the above two)"
   ]
  },
  {
   "cell_type": "code",
   "execution_count": 219,
   "metadata": {},
   "outputs": [
    {
     "output_type": "execute_result",
     "data": {
      "text/plain": [
       "                                    budget per student  math average  \\\n",
       "school_name         student budget                                     \n",
       "Cabrera High School $<585                        582.0     83.061895   \n",
       "Holden High School  $<585                        581.0     83.803279   \n",
       "Wilson High School  $<585                        578.0     83.274201   \n",
       "Wright High School  $<585                        583.0     83.682222   \n",
       "Bailey High School  $585-630                     628.0     77.048432   \n",
       "\n",
       "                                    reading average  passing math  \\\n",
       "school_name         student budget                                  \n",
       "Cabrera High School $<585                 83.975780         94.13   \n",
       "Holden High School  $<585                 83.814988         92.51   \n",
       "Wilson High School  $<585                 83.989488         93.87   \n",
       "Wright High School  $<585                 83.955000         93.33   \n",
       "Bailey High School  $585-630              81.033963         66.68   \n",
       "\n",
       "                                    passing reading  overall passing  \n",
       "school_name         student budget                                    \n",
       "Cabrera High School $<585                 97.039828            91.33  \n",
       "Holden High School  $<585                 96.252927            89.23  \n",
       "Wilson High School  $<585                 96.539641            90.58  \n",
       "Wright High School  $<585                 96.611111            90.33  \n",
       "Bailey High School  $585-630              81.933280            54.64  "
      ],
      "text/html": "<div>\n<style scoped>\n    .dataframe tbody tr th:only-of-type {\n        vertical-align: middle;\n    }\n\n    .dataframe tbody tr th {\n        vertical-align: top;\n    }\n\n    .dataframe thead th {\n        text-align: right;\n    }\n</style>\n<table border=\"1\" class=\"dataframe\">\n  <thead>\n    <tr style=\"text-align: right;\">\n      <th></th>\n      <th></th>\n      <th>budget per student</th>\n      <th>math average</th>\n      <th>reading average</th>\n      <th>passing math</th>\n      <th>passing reading</th>\n      <th>overall passing</th>\n    </tr>\n    <tr>\n      <th>school_name</th>\n      <th>student budget</th>\n      <th></th>\n      <th></th>\n      <th></th>\n      <th></th>\n      <th></th>\n      <th></th>\n    </tr>\n  </thead>\n  <tbody>\n    <tr>\n      <th>Cabrera High School</th>\n      <th>$&lt;585</th>\n      <td>582.0</td>\n      <td>83.061895</td>\n      <td>83.975780</td>\n      <td>94.13</td>\n      <td>97.039828</td>\n      <td>91.33</td>\n    </tr>\n    <tr>\n      <th>Holden High School</th>\n      <th>$&lt;585</th>\n      <td>581.0</td>\n      <td>83.803279</td>\n      <td>83.814988</td>\n      <td>92.51</td>\n      <td>96.252927</td>\n      <td>89.23</td>\n    </tr>\n    <tr>\n      <th>Wilson High School</th>\n      <th>$&lt;585</th>\n      <td>578.0</td>\n      <td>83.274201</td>\n      <td>83.989488</td>\n      <td>93.87</td>\n      <td>96.539641</td>\n      <td>90.58</td>\n    </tr>\n    <tr>\n      <th>Wright High School</th>\n      <th>$&lt;585</th>\n      <td>583.0</td>\n      <td>83.682222</td>\n      <td>83.955000</td>\n      <td>93.33</td>\n      <td>96.611111</td>\n      <td>90.33</td>\n    </tr>\n    <tr>\n      <th>Bailey High School</th>\n      <th>$585-630</th>\n      <td>628.0</td>\n      <td>77.048432</td>\n      <td>81.033963</td>\n      <td>66.68</td>\n      <td>81.933280</td>\n      <td>54.64</td>\n    </tr>\n  </tbody>\n</table>\n</div>"
     },
     "metadata": {},
     "execution_count": 219
    }
   ],
   "source": [
    " grouped_school_name =school_data_complete.groupby(['school_name'])\n",
    "total_school_budget =grouped_school_name[\"budget\"].mean()\n",
    "total_school_budget\n",
    "budget_per_student = total_school_budget/ schools_counts\n",
    "budget_per_student\n",
    "average_math = grouped_school_name[\"math_score\"].mean()\n",
    "average_reading=grouped_school_name[\"reading_score\"].mean()\n",
    "read= school_data_complete.loc[school_data_complete[\"reading_score\"] >= 70]\n",
    " read.head()\n",
    "passing_read = read.groupby([\"school_name\"]).count()[\"student_name\"]/school_names*100\n",
    "math = school_data_complete.loc[school_data_complete[\"math_score\"] >= 70]\n",
    "passing_math =round( math.groupby([\"school_name\"]).count()[\"student_name\"] / school_names*100,2)\n",
    "math_reading =school_data_complete.loc[(school_data_complete[\"math_score\"] >= 70) & (school_data_complete[\"reading_score\"] >= 70)]\n",
    "passing_math_reading =round(math_reading.groupby([\"school_name\"]).count()[\"student_name\"]/schools_counts*100,2)\n",
    "\n",
    "\n",
    "\n",
    "budget_per_sctudent_df = pd.DataFrame({\"budget per student\":budget_per_student,\"math average\":average_math,\"reading average\":average_reading,\"passing math\":passing_math,\"passing reading\":passing_read,\"overall passing\":passing_math_reading})\n",
    "budget_per_sctudent_df\n",
    "\n",
    "bins = [0,585,630,645,680]\n",
    "label_group = [\"$<585\",\"$585-630\",\"$630-645\",\"$645-680\"]\n",
    "budget_per_sctudent_df[\"student budget\"] = pd.cut(budget_per_sctudent_df[\"budget per student\"], bins,labels=label_group, include_lowest=True)\n",
    "budget_per_sctudent_df\n",
    "budget_per_sctudent_df.set_index([\"student budget\"], inplace = True, \n",
    "                    append = True, drop = True) \n",
    "\n",
    "student_budget_df = budget_per_sctudent_df.sort_values(\"student budget\")\n",
    "student_budget_df.head()\n",
    "\n",
    "\n",
    "# student_budget_group = budget_per_sctudent_df.groupby([\"student budget\"])\n",
    "# math_budget = student_budget_group[\"math average\"].mean()\n",
    "# math_average.head()\n",
    "\n",
    "\n",
    "\n",
    "\n",
    "\n",
    "\n",
    "# passing_read.head()\n",
    "# # passing_math_average = passing_math.groupby[\"school_name\"].mean()\n",
    "# #passing_math.head()\n",
    "# # bins = [0,585,630,645,680]\n",
    "\n",
    "\n",
    "# # total_school_budget[\"Average math score\"] = pd.cut(total_school_budget[\"math_score\"], bins,include_lowest=True)\n"
   ]
  },
  {
   "cell_type": "markdown",
   "metadata": {},
   "source": [
    "## Scores by School Size"
   ]
  },
  {
   "cell_type": "markdown",
   "metadata": {},
   "source": [
    "* Perform the same operations as above, based on school size."
   ]
  },
  {
   "cell_type": "code",
   "execution_count": 22,
   "metadata": {
    "scrolled": true
   },
   "outputs": [
    {
     "data": {
      "text/html": [
       "<div>\n",
       "<style scoped>\n",
       "    .dataframe tbody tr th:only-of-type {\n",
       "        vertical-align: middle;\n",
       "    }\n",
       "\n",
       "    .dataframe tbody tr th {\n",
       "        vertical-align: top;\n",
       "    }\n",
       "\n",
       "    .dataframe thead th {\n",
       "        text-align: right;\n",
       "    }\n",
       "</style>\n",
       "<table border=\"1\" class=\"dataframe\">\n",
       "  <thead>\n",
       "    <tr style=\"text-align: right;\">\n",
       "      <th></th>\n",
       "      <th>Average Math Score</th>\n",
       "      <th>Average Reading Score</th>\n",
       "      <th>% Passing Math</th>\n",
       "      <th>% Passing Reading</th>\n",
       "      <th>% Overall Passing</th>\n",
       "    </tr>\n",
       "    <tr>\n",
       "      <th>School Size</th>\n",
       "      <th></th>\n",
       "      <th></th>\n",
       "      <th></th>\n",
       "      <th></th>\n",
       "      <th></th>\n",
       "    </tr>\n",
       "  </thead>\n",
       "  <tbody>\n",
       "    <tr>\n",
       "      <th>Small (&lt;1000)</th>\n",
       "      <td>83.821598</td>\n",
       "      <td>83.929843</td>\n",
       "      <td>93.550225</td>\n",
       "      <td>96.099437</td>\n",
       "      <td>89.883853</td>\n",
       "    </tr>\n",
       "    <tr>\n",
       "      <th>Medium (1000-2000)</th>\n",
       "      <td>83.374684</td>\n",
       "      <td>83.864438</td>\n",
       "      <td>93.599695</td>\n",
       "      <td>96.790680</td>\n",
       "      <td>90.621535</td>\n",
       "    </tr>\n",
       "    <tr>\n",
       "      <th>Large (2000-5000)</th>\n",
       "      <td>77.746417</td>\n",
       "      <td>81.344493</td>\n",
       "      <td>69.963361</td>\n",
       "      <td>82.766634</td>\n",
       "      <td>58.286003</td>\n",
       "    </tr>\n",
       "  </tbody>\n",
       "</table>\n",
       "</div>"
      ],
      "text/plain": [
       "                    Average Math Score  Average Reading Score  % Passing Math  \\\n",
       "School Size                                                                     \n",
       "Small (<1000)                83.821598              83.929843       93.550225   \n",
       "Medium (1000-2000)           83.374684              83.864438       93.599695   \n",
       "Large (2000-5000)            77.746417              81.344493       69.963361   \n",
       "\n",
       "                    % Passing Reading  % Overall Passing  \n",
       "School Size                                               \n",
       "Small (<1000)               96.099437          89.883853  \n",
       "Medium (1000-2000)          96.790680          90.621535  \n",
       "Large (2000-5000)           82.766634          58.286003  "
      ]
     },
     "execution_count": 22,
     "metadata": {},
     "output_type": "execute_result"
    }
   ],
   "source": []
  },
  {
   "cell_type": "markdown",
   "metadata": {},
   "source": [
    "## Scores by School Type"
   ]
  },
  {
   "cell_type": "markdown",
   "metadata": {},
   "source": [
    "* Perform the same operations as above, based on school type"
   ]
  },
  {
   "cell_type": "code",
   "execution_count": 24,
   "metadata": {},
   "outputs": [
    {
     "data": {
      "text/html": [
       "<div>\n",
       "<style scoped>\n",
       "    .dataframe tbody tr th:only-of-type {\n",
       "        vertical-align: middle;\n",
       "    }\n",
       "\n",
       "    .dataframe tbody tr th {\n",
       "        vertical-align: top;\n",
       "    }\n",
       "\n",
       "    .dataframe thead th {\n",
       "        text-align: right;\n",
       "    }\n",
       "</style>\n",
       "<table border=\"1\" class=\"dataframe\">\n",
       "  <thead>\n",
       "    <tr style=\"text-align: right;\">\n",
       "      <th></th>\n",
       "      <th>Average Math Score</th>\n",
       "      <th>Average Reading Score</th>\n",
       "      <th>% Passing Math</th>\n",
       "      <th>% Passing Reading</th>\n",
       "      <th>% Overall Passing</th>\n",
       "    </tr>\n",
       "    <tr>\n",
       "      <th>School Type</th>\n",
       "      <th></th>\n",
       "      <th></th>\n",
       "      <th></th>\n",
       "      <th></th>\n",
       "      <th></th>\n",
       "    </tr>\n",
       "  </thead>\n",
       "  <tbody>\n",
       "    <tr>\n",
       "      <th>Charter</th>\n",
       "      <td>83.473852</td>\n",
       "      <td>83.896421</td>\n",
       "      <td>93.620830</td>\n",
       "      <td>96.586489</td>\n",
       "      <td>90.432244</td>\n",
       "    </tr>\n",
       "    <tr>\n",
       "      <th>District</th>\n",
       "      <td>76.956733</td>\n",
       "      <td>80.966636</td>\n",
       "      <td>66.548453</td>\n",
       "      <td>80.799062</td>\n",
       "      <td>53.672208</td>\n",
       "    </tr>\n",
       "  </tbody>\n",
       "</table>\n",
       "</div>"
      ],
      "text/plain": [
       "             Average Math Score  Average Reading Score  % Passing Math  \\\n",
       "School Type                                                              \n",
       "Charter               83.473852              83.896421       93.620830   \n",
       "District              76.956733              80.966636       66.548453   \n",
       "\n",
       "             % Passing Reading  % Overall Passing  \n",
       "School Type                                        \n",
       "Charter              96.586489          90.432244  \n",
       "District             80.799062          53.672208  "
      ]
     },
     "execution_count": 24,
     "metadata": {},
     "output_type": "execute_result"
    }
   ],
   "source": []
  },
  {
   "cell_type": "code",
   "execution_count": null,
   "metadata": {},
   "outputs": [],
   "source": []
  }
 ],
 "metadata": {
  "anaconda-cloud": {},
  "kernel_info": {
   "name": "python3"
  },
  "kernelspec": {
   "name": "python3",
   "display_name": "Python 3.7.6 64-bit (conda)",
   "metadata": {
    "interpreter": {
     "hash": "99a237a7b17063c1b1ae23bbf27b3d3bfbaf022698a4da3d51312123ec3b869e"
    }
   }
  },
  "language_info": {
   "codemirror_mode": {
    "name": "ipython",
    "version": 3
   },
   "file_extension": ".py",
   "mimetype": "text/x-python",
   "name": "python",
   "nbconvert_exporter": "python",
   "pygments_lexer": "ipython3",
   "version": "3.7.6-final"
  },
  "latex_envs": {
   "LaTeX_envs_menu_present": true,
   "autoclose": false,
   "autocomplete": true,
   "bibliofile": "biblio.bib",
   "cite_by": "apalike",
   "current_citInitial": 1,
   "eqLabelWithNumbers": true,
   "eqNumInitial": 1,
   "hotkeys": {
    "equation": "Ctrl-E",
    "itemize": "Ctrl-I"
   },
   "labels_anchors": false,
   "latex_user_defs": false,
   "report_style_numbering": false,
   "user_envs_cfg": false
  },
  "nteract": {
   "version": "0.8.4"
  }
 },
 "nbformat": 4,
 "nbformat_minor": 1
}